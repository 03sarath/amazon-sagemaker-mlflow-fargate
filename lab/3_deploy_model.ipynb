{
 "cells": [
  {
   "cell_type": "markdown",
   "metadata": {},
   "source": [
    "# Deploy an MLflow model with SageMaker"
   ]
  },
  {
   "cell_type": "markdown",
   "metadata": {},
   "source": [
    "## Install MLflow"
   ]
  },
  {
   "cell_type": "code",
   "execution_count": 1,
   "metadata": {},
   "outputs": [],
   "source": [
    "!pip install -q mlflow==2.0.1"
   ]
  },
  {
   "cell_type": "code",
   "execution_count": 2,
   "metadata": {},
   "outputs": [
    {
     "name": "stdout",
     "output_type": "stream",
     "text": [
      "Requirement already satisfied: scikit-learn==1.1.3 in /home/ec2-user/anaconda3/envs/python3/lib/python3.10/site-packages (1.1.3)\n",
      "Requirement already satisfied: numpy>=1.17.3 in /home/ec2-user/anaconda3/envs/python3/lib/python3.10/site-packages (from scikit-learn==1.1.3) (1.22.4)\n",
      "Requirement already satisfied: scipy>=1.3.2 in /home/ec2-user/anaconda3/envs/python3/lib/python3.10/site-packages (from scikit-learn==1.1.3) (1.12.0)\n",
      "Requirement already satisfied: joblib>=1.0.0 in /home/ec2-user/anaconda3/envs/python3/lib/python3.10/site-packages (from scikit-learn==1.1.3) (1.3.2)\n",
      "Requirement already satisfied: threadpoolctl>=2.0.0 in /home/ec2-user/anaconda3/envs/python3/lib/python3.10/site-packages (from scikit-learn==1.1.3) (3.3.0)\n"
     ]
    }
   ],
   "source": [
    "!pip install scikit-learn==1.1.3"
   ]
  },
  {
   "cell_type": "markdown",
   "metadata": {},
   "source": [
    "## Setup environment"
   ]
  },
  {
   "cell_type": "code",
   "execution_count": 15,
   "metadata": {},
   "outputs": [],
   "source": [
    "import json\n",
    "import boto3\n",
    "import mlflow\n",
    "import sagemaker\n",
    "import pandas as pd\n",
    "import mlflow.sagemaker\n",
    "from sklearn.datasets import load_boston\n",
    "from mlflow.deployments import get_deploy_client\n",
    "\n",
    "# name of the AWS region to which to deploy the application\n",
    "region = sagemaker.Session().boto_region_name\n",
    "# we are using the notebook instance role for training in this example\n",
    "role = sagemaker.get_execution_role() \n",
    "# uri of your remote mlflow server\n",
    "tracking_uri = 'http://MLflow-MLFLO-w9tpeQwzgqZz-45551a4ba3a1ef8d.elb.us-east-1.amazonaws.com/' \n",
    "# set remote mlflow server\n",
    "mlflow.set_tracking_uri(tracking_uri)"
   ]
  },
  {
   "cell_type": "markdown",
   "metadata": {},
   "source": [
    "## Build MLflow docker image to serve the model with SageMaker \n",
    "\n",
    "### Instructions to Build Your Own MLflow Docker Image to Serve a Model\n",
    "\n",
    "You can do this on your local Docker daemon.\n",
    "\n",
    "1. Make sure you have configured AWS credentials on your PC:\n",
    "\n",
    "    ```sh\n",
    "    $ aws configure\n",
    "    AWS Access Key ID [****]: Your-Access-Key-ID\n",
    "    AWS Secret Access Key [****]: Your-Secret-Access-Key\n",
    "    Default region name [None]: us-east-1\n",
    "    Default output format [None]: json\n",
    "    ```\n",
    "\n",
    "2. Install Docker Desktop https://www.docker.com/products/docker-desktop/ (ensure your Docker Desktop is up and running before proceeding with the following steps).\n",
    "\n",
    "3. Install MLflow:\n",
    "\n",
    "    ```sh\n",
    "    $ pip install mlflow\n",
    "    ```\n",
    "\n",
    "4. Install Boto3:\n",
    "\n",
    "    ```sh\n",
    "    $ pip install boto3\n",
    "    ```\n",
    "\n",
    "5. Run the following command to build and push the MLflow container. This step will take 20 to 30 minutes to complete and will automatically push the container to Amazon ECR:\n",
    "\n",
    "    ```sh\n",
    "    $ mlflow sagemaker build-and-push-container\n",
    "    ```\n",
    "\n",
    "Once you have your own Docker image, you can start using it.\n"
   ]
  },
  {
   "cell_type": "code",
   "execution_count": null,
   "metadata": {},
   "outputs": [],
   "source": [
    "#!aws ecr get-login --no-include-email --registry-ids 146171926552 --region us-east-1"
   ]
  },
  {
   "cell_type": "code",
   "execution_count": 41,
   "metadata": {},
   "outputs": [],
   "source": [
    "##MLFlow Docker Setup"
   ]
  },
  {
   "cell_type": "code",
   "execution_count": 60,
   "metadata": {},
   "outputs": [
    {
     "name": "stdout",
     "output_type": "stream",
     "text": [
      "REPOSITORY                                            TAG       IMAGE ID       CREATED             SIZE\r\n",
      "03sarath/mlflow-pyfunc                                2.12.2    bef1a9579b21   About an hour ago   2.49GB\r\n",
      "<none>                                                <none>    aacb37258e6a   3 hours ago         124MB\r\n",
      "ubuntu                                                20.04     2abc4dfd8318   2 weeks ago         72.8MB\r\n",
      "146171926552.dkr.ecr.us-east-1.amazonaws.com/mlflow   2.0.1     7c5a6df04b5b   2 months ago        2.8GB\r\n",
      "146171926552.dkr.ecr.us-east-1.amazonaws.com/mlflow   2.12.1    7c5a6df04b5b   2 months ago        2.8GB\r\n",
      "146171926552.dkr.ecr.us-east-1.amazonaws.com/mlflow   2.12.2    7c5a6df04b5b   2 months ago        2.8GB\r\n",
      "03sarath/mlflow-pyfunc                                2.0.1     7c5a6df04b5b   2 months ago        2.8GB\r\n",
      "public.ecr.aws/d2p5i2f8/mlflow/mlflow-pyfunc          2.0.1     7c5a6df04b5b   2 months ago        2.8GB\r\n"
     ]
    }
   ],
   "source": [
    "!docker images"
   ]
  },
  {
   "cell_type": "code",
   "execution_count": 43,
   "metadata": {},
   "outputs": [
    {
     "name": "stdout",
     "output_type": "stream",
     "text": [
      "2.12.2: Pulling from 03sarath/mlflow-pyfunc\n",
      "\n",
      "\u001b[1Bc94e5e10: Already exists \n",
      "\u001b[1B1a841b62: Pulling fs layer \n",
      "\u001b[1B92926c51: Pulling fs layer \n",
      "\u001b[1B4141f19b: Pulling fs layer \n",
      "\u001b[1Bd50a325e: Pulling fs layer \n",
      "\u001b[1B2a40ba8d: Pulling fs layer \n",
      "\u001b[1Be46d18db: Pulling fs layer \n",
      "\u001b[1B75548dfe: Pulling fs layer \n",
      "\u001b[1Bb23d2876: Pulling fs layer \n",
      "\u001b[1B755c6ff6: Pulling fs layer \n",
      "\u001b[1B9c3cf88b: Pulling fs layer \n",
      "\u001b[1B22d7abdc: Pulling fs layer \n",
      "\u001b[1B6493764b: Pulling fs layer \n",
      "\u001b[1B6e1a3d00: Pulling fs layer \n",
      "\u001b[1B8e2e887d: Pulling fs layer \n",
      "\u001b[1BDigest: sha256:e14fd53a9ff37d91cbf775c02749bdc16cff931e482cfbabd4e0f904f85ce41f\u001b[2K\u001b[15A\u001b[2K\u001b[15A\u001b[2K\u001b[15A\u001b[2K\u001b[14A\u001b[2K\u001b[15A\u001b[2K\u001b[14A\u001b[2K\u001b[15A\u001b[2K\u001b[11A\u001b[2K\u001b[15A\u001b[2K\u001b[14A\u001b[2K\u001b[10A\u001b[2K\u001b[14A\u001b[2K\u001b[14A\u001b[2K\u001b[14A\u001b[2K\u001b[10A\u001b[2K\u001b[10A\u001b[2K\u001b[14A\u001b[2K\u001b[10A\u001b[2K\u001b[15A\u001b[2K\u001b[10A\u001b[2K\u001b[15A\u001b[2K\u001b[14A\u001b[2K\u001b[15A\u001b[2K\u001b[15A\u001b[2K\u001b[10A\u001b[2K\u001b[15A\u001b[2K\u001b[10A\u001b[2K\u001b[15A\u001b[2K\u001b[15A\u001b[2K\u001b[14A\u001b[2K\u001b[15A\u001b[2K\u001b[14A\u001b[2K\u001b[9A\u001b[2K\u001b[14A\u001b[2K\u001b[10A\u001b[2K\u001b[14A\u001b[2K\u001b[10A\u001b[2K\u001b[14A\u001b[2K\u001b[10A\u001b[2K\u001b[14A\u001b[2K\u001b[10A\u001b[2K\u001b[10A\u001b[2K\u001b[14A\u001b[2K\u001b[15A\u001b[2K\u001b[14A\u001b[2K\u001b[8A\u001b[2K\u001b[15A\u001b[2K\u001b[8A\u001b[2K\u001b[10A\u001b[2K\u001b[8A\u001b[2K\u001b[15A\u001b[2K\u001b[8A\u001b[2K\u001b[8A\u001b[2K\u001b[7A\u001b[2K\u001b[8A\u001b[2K\u001b[4A\u001b[2K\u001b[8A\u001b[2K\u001b[3A\u001b[2K\u001b[3A\u001b[2K\u001b[8A\u001b[2K\u001b[15A\u001b[2K\u001b[2A\u001b[2K\u001b[4A\u001b[2K\u001b[1A\u001b[2K\u001b[4A\u001b[2K\u001b[15A\u001b[2K\u001b[4A\u001b[2K\u001b[15A\u001b[2K\u001b[8A\u001b[2K\u001b[4A\u001b[2K\u001b[4A\u001b[2K\u001b[4A\u001b[2K\u001b[4A\u001b[2K\u001b[4A\u001b[2K\u001b[8A\u001b[2K\u001b[15A\u001b[2K\u001b[8A\u001b[2K\u001b[4A\u001b[2K\u001b[8A\u001b[2K\u001b[8A\u001b[2K\u001b[15A\u001b[2K\u001b[8A\u001b[2K\u001b[4A\u001b[2K\u001b[4A\u001b[2K\u001b[8A\u001b[2K\u001b[8A\u001b[2K\u001b[4A\u001b[2K\u001b[4A\u001b[2K\u001b[15A\u001b[2K\u001b[8A\u001b[2K\u001b[15A\u001b[2K\u001b[8A\u001b[2K\u001b[15A\u001b[2K\u001b[8A\u001b[2K\u001b[15A\u001b[2K\u001b[8A\u001b[2K\u001b[15A\u001b[2K\u001b[15A\u001b[2K\u001b[8A\u001b[2K\u001b[15A\u001b[2K\u001b[15A\u001b[2K\u001b[8A\u001b[2K\u001b[15A\u001b[2K\u001b[15A\u001b[2K\u001b[8A\u001b[2K\u001b[15A\u001b[2K\u001b[8A\u001b[2K\u001b[15A\u001b[2K\u001b[8A\u001b[2K\u001b[15A\u001b[2K\u001b[8A\u001b[2K\u001b[15A\u001b[2K\u001b[8A\u001b[2K\u001b[15A\u001b[2K\u001b[8A\u001b[2K\u001b[15A\u001b[2K\u001b[8A\u001b[2K\u001b[15A\u001b[2K\u001b[15A\u001b[2K\u001b[15A\u001b[2K\u001b[8A\u001b[2K\u001b[15A\u001b[2K\u001b[8A\u001b[2K\u001b[15A\u001b[2K\u001b[15A\u001b[2K\u001b[15A\u001b[2K\u001b[15A\u001b[2K\u001b[15A\u001b[2K\u001b[15A\u001b[2K\u001b[15A\u001b[2K\u001b[15A\u001b[2K\u001b[15A\u001b[2K\u001b[15A\u001b[2K\u001b[15A\u001b[2K\u001b[15A\u001b[2K\u001b[15A\u001b[2K\u001b[15A\u001b[2K\u001b[15A\u001b[2K\u001b[15A\u001b[2K\u001b[15A\u001b[2K\u001b[15A\u001b[2K\u001b[15A\u001b[2KExtracting  127.6MB/164.1MB\u001b[15A\u001b[2K\u001b[15A\u001b[2K\u001b[15A\u001b[2K\u001b[15A\u001b[2K\u001b[15A\u001b[2K\u001b[15A\u001b[2K\u001b[15A\u001b[2K\u001b[15A\u001b[2K\u001b[15A\u001b[2K\u001b[14A\u001b[2K\u001b[14A\u001b[2K\u001b[14A\u001b[2K\u001b[14A\u001b[2K\u001b[14A\u001b[2K\u001b[14A\u001b[2K\u001b[14A\u001b[2K\u001b[14A\u001b[2K\u001b[14A\u001b[2K\u001b[14A\u001b[2K\u001b[14A\u001b[2K\u001b[14A\u001b[2K\u001b[14A\u001b[2K\u001b[14A\u001b[2K\u001b[14A\u001b[2K\u001b[14A\u001b[2K\u001b[14A\u001b[2K\u001b[14A\u001b[2K\u001b[14A\u001b[2K\u001b[14A\u001b[2K\u001b[14A\u001b[2K\u001b[14A\u001b[2K\u001b[14A\u001b[2K\u001b[14A\u001b[2K\u001b[14A\u001b[2K\u001b[14A\u001b[2K\u001b[14A\u001b[2K\u001b[14A\u001b[2K\u001b[14A\u001b[2K\u001b[14A\u001b[2K\u001b[14A\u001b[2K\u001b[14A\u001b[2K\u001b[14A\u001b[2K\u001b[14A\u001b[2K\u001b[14A\u001b[2K\u001b[14A\u001b[2K\u001b[14A\u001b[2K\u001b[14A\u001b[2K\u001b[14A\u001b[2K\u001b[14A\u001b[2K\u001b[14A\u001b[2K\u001b[14A\u001b[2K\u001b[14A\u001b[2K\u001b[14A\u001b[2K\u001b[14A\u001b[2K\u001b[14A\u001b[2K\u001b[14A\u001b[2K\u001b[14A\u001b[2K\u001b[14A\u001b[2K\u001b[14A\u001b[2K\u001b[14A\u001b[2K\u001b[14A\u001b[2K\u001b[14A\u001b[2K\u001b[14A\u001b[2K\u001b[14A\u001b[2K\u001b[14A\u001b[2K\u001b[14A\u001b[2K\u001b[14A\u001b[2K\u001b[14A\u001b[2K\u001b[14A\u001b[2K\u001b[14A\u001b[2K\u001b[14A\u001b[2K\u001b[14A\u001b[2K\u001b[14A\u001b[2K\u001b[14A\u001b[2K\u001b[14A\u001b[2K\u001b[14A\u001b[2K\u001b[14A\u001b[2K\u001b[14A\u001b[2K\u001b[14A\u001b[2K\u001b[14A\u001b[2K\u001b[14A\u001b[2K\u001b[14A\u001b[2K\u001b[14A\u001b[2K\u001b[14A\u001b[2K\u001b[14A\u001b[2K\u001b[14A\u001b[2K\u001b[14A\u001b[2K\u001b[14A\u001b[2K\u001b[13A\u001b[2K\u001b[13A\u001b[2K\u001b[13A\u001b[2K\u001b[13A\u001b[2K\u001b[12A\u001b[2K\u001b[12A\u001b[2K\u001b[12A\u001b[2K\u001b[12A\u001b[2K\u001b[12A\u001b[2K\u001b[12A\u001b[2K\u001b[12A\u001b[2K\u001b[12A\u001b[2K\u001b[11A\u001b[2K\u001b[11A\u001b[2K\u001b[11A\u001b[2K\u001b[10A\u001b[2K\u001b[10A\u001b[2K\u001b[10A\u001b[2K\u001b[10A\u001b[2K\u001b[10A\u001b[2K\u001b[10A\u001b[2K\u001b[10A\u001b[2K\u001b[10A\u001b[2K\u001b[10A\u001b[2K\u001b[10A\u001b[2K\u001b[10A\u001b[2K\u001b[10A\u001b[2K\u001b[10A\u001b[2K\u001b[10A\u001b[2K\u001b[10A\u001b[2K\u001b[10A\u001b[2K\u001b[10A\u001b[2K\u001b[10A\u001b[2K\u001b[10A\u001b[2K\u001b[10A\u001b[2K\u001b[10A\u001b[2K\u001b[10A\u001b[2K\u001b[10A\u001b[2K\u001b[10A\u001b[2K\u001b[10A\u001b[2K\u001b[10A\u001b[2K\u001b[10A\u001b[2K\u001b[10A\u001b[2K\u001b[10A\u001b[2K\u001b[10A\u001b[2K\u001b[10A\u001b[2K\u001b[9A\u001b[2K\u001b[8A\u001b[2K\u001b[8A\u001b[2K\u001b[8A\u001b[2K\u001b[8A\u001b[2K\u001b[8A\u001b[2K\u001b[8A\u001b[2K\u001b[8A\u001b[2K\u001b[8A\u001b[2K\u001b[8A\u001b[2K\u001b[8A\u001b[2K\u001b[8A\u001b[2K\u001b[8A\u001b[2K\u001b[8A\u001b[2K\u001b[8A\u001b[2K\u001b[8A\u001b[2K\u001b[8A\u001b[2K\u001b[8A\u001b[2K\u001b[8A\u001b[2K\u001b[8A\u001b[2K\u001b[8A\u001b[2K\u001b[8A\u001b[2K\u001b[8A\u001b[2K\u001b[8A\u001b[2K\u001b[8A\u001b[2K\u001b[8A\u001b[2K\u001b[8A\u001b[2K\u001b[8A\u001b[2K\u001b[8A\u001b[2K\u001b[8A\u001b[2K\u001b[8A\u001b[2K\u001b[8A\u001b[2K\u001b[8A\u001b[2K\u001b[8A\u001b[2K\u001b[8A\u001b[2K\u001b[8A\u001b[2K\u001b[8A\u001b[2K\u001b[8A\u001b[2K\u001b[8A\u001b[2K\u001b[8A\u001b[2K\u001b[8A\u001b[2K\u001b[8A\u001b[2K\u001b[8A\u001b[2K\u001b[8A\u001b[2K\u001b[8A\u001b[2K\u001b[8A\u001b[2K\u001b[8A\u001b[2K\u001b[8A\u001b[2K\u001b[8A\u001b[2K\u001b[8A\u001b[2K\u001b[8A\u001b[2K\u001b[8A\u001b[2K\u001b[8A\u001b[2K\u001b[8A\u001b[2K\u001b[8A\u001b[2K\u001b[8A\u001b[2K\u001b[8A\u001b[2K\u001b[8A\u001b[2K\u001b[8A\u001b[2K\u001b[8A\u001b[2K\u001b[8A\u001b[2K\u001b[8A\u001b[2K\u001b[8A\u001b[2K\u001b[8A\u001b[2K\u001b[8A\u001b[2K\u001b[8A\u001b[2K\u001b[8A\u001b[2K\u001b[8A\u001b[2K\u001b[8A\u001b[2K\u001b[8A\u001b[2K\u001b[8A\u001b[2K\u001b[8A\u001b[2K\u001b[8A\u001b[2K\u001b[8A\u001b[2K\u001b[8A\u001b[2K\u001b[8A\u001b[2K\u001b[8A\u001b[2K\u001b[8A\u001b[2K\u001b[8A\u001b[2K\u001b[8A\u001b[2K\u001b[8A\u001b[2K\u001b[8A\u001b[2K\u001b[8A\u001b[2K\u001b[8A\u001b[2K\u001b[8A\u001b[2K\u001b[8A\u001b[2K\u001b[8A\u001b[2K\u001b[8A\u001b[2K\u001b[8A\u001b[2K\u001b[8A\u001b[2K\u001b[8A\u001b[2K\u001b[8A\u001b[2K\u001b[8A\u001b[2K\u001b[8A\u001b[2K\u001b[8A\u001b[2K\u001b[8A\u001b[2K\u001b[8A\u001b[2K\u001b[8A\u001b[2K\u001b[8A\u001b[2K\u001b[8A\u001b[2K\u001b[8A\u001b[2K\u001b[8A\u001b[2K\u001b[8A\u001b[2K\u001b[7A\u001b[2K\u001b[7A\u001b[2K\u001b[7A\u001b[2K\u001b[7A\u001b[2K\u001b[6A\u001b[2K\u001b[5A\u001b[2K\u001b[4A\u001b[2K\u001b[4A\u001b[2K\u001b[4A\u001b[2K\u001b[4A\u001b[2K\u001b[4A\u001b[2K\u001b[4A\u001b[2K\u001b[4A\u001b[2K\u001b[4A\u001b[2K\u001b[4A\u001b[2K\u001b[4A\u001b[2K\u001b[4A\u001b[2K\u001b[4A\u001b[2K\u001b[4A\u001b[2K\u001b[4A\u001b[2K\u001b[4A\u001b[2K\u001b[4A\u001b[2K\u001b[4A\u001b[2K\u001b[4A\u001b[2K\u001b[4A\u001b[2K\u001b[4A\u001b[2K\u001b[4A\u001b[2K\u001b[4A\u001b[2K\u001b[4A\u001b[2K\u001b[3A\u001b[2K\u001b[3A\u001b[2K\u001b[3A\u001b[2K\u001b[3A\u001b[2K\u001b[3A\u001b[2K\u001b[3A\u001b[2K\u001b[3A\u001b[2K\u001b[2A\u001b[2K\u001b[1A\u001b[2K\n",
      "Status: Downloaded newer image for 03sarath/mlflow-pyfunc:2.12.2\n",
      "docker.io/03sarath/mlflow-pyfunc:2.12.2\n"
     ]
    }
   ],
   "source": [
    "!docker pull 03sarath/mlflow-pyfunc:2.12.2 #Pull Docker images from my registry"
   ]
  },
  {
   "cell_type": "code",
   "execution_count": 44,
   "metadata": {},
   "outputs": [
    {
     "name": "stdout",
     "output_type": "stream",
     "text": [
      "REPOSITORY                                            TAG       IMAGE ID       CREATED          SIZE\r\n",
      "03sarath/mlflow-pyfunc                                2.12.2    bef1a9579b21   42 minutes ago   2.49GB\r\n",
      "<none>                                                <none>    aacb37258e6a   2 hours ago      124MB\r\n",
      "ubuntu                                                20.04     2abc4dfd8318   2 weeks ago      72.8MB\r\n",
      "public.ecr.aws/d2p5i2f8/mlflow/mlflow-pyfunc          2.0.1     7c5a6df04b5b   2 months ago     2.8GB\r\n",
      "146171926552.dkr.ecr.us-east-1.amazonaws.com/mlflow   2.0.1     7c5a6df04b5b   2 months ago     2.8GB\r\n",
      "03sarath/mlflow-pyfunc                                2.0.1     7c5a6df04b5b   2 months ago     2.8GB\r\n"
     ]
    }
   ],
   "source": [
    "!docker images"
   ]
  },
  {
   "cell_type": "code",
   "execution_count": 49,
   "metadata": {},
   "outputs": [],
   "source": [
    "#!docker tag 03sarath/mlflow-pyfunc:2.12.2 <You'r ECR repo ID>\n",
    "!docker tag 03sarath/mlflow-pyfunc:2.12.2 146171926552.dkr.ecr.us-east-1.amazonaws.com/mlflow:2.12.2"
   ]
  },
  {
   "cell_type": "code",
   "execution_count": 50,
   "metadata": {},
   "outputs": [
    {
     "name": "stdout",
     "output_type": "stream",
     "text": [
      "REPOSITORY                                            TAG       IMAGE ID       CREATED          SIZE\r\n",
      "03sarath/mlflow-pyfunc                                2.12.2    bef1a9579b21   46 minutes ago   2.49GB\r\n",
      "<none>                                                <none>    aacb37258e6a   2 hours ago      124MB\r\n",
      "ubuntu                                                20.04     2abc4dfd8318   2 weeks ago      72.8MB\r\n",
      "03sarath/mlflow-pyfunc                                2.0.1     7c5a6df04b5b   2 months ago     2.8GB\r\n",
      "public.ecr.aws/d2p5i2f8/mlflow/mlflow-pyfunc          2.0.1     7c5a6df04b5b   2 months ago     2.8GB\r\n",
      "146171926552.dkr.ecr.us-east-1.amazonaws.com/mlflow   2.0.1     7c5a6df04b5b   2 months ago     2.8GB\r\n",
      "146171926552.dkr.ecr.us-east-1.amazonaws.com/mlflow   2.12.1    7c5a6df04b5b   2 months ago     2.8GB\r\n",
      "146171926552.dkr.ecr.us-east-1.amazonaws.com/mlflow   2.12.2    7c5a6df04b5b   2 months ago     2.8GB\r\n"
     ]
    }
   ],
   "source": [
    "!docker images"
   ]
  },
  {
   "cell_type": "code",
   "execution_count": 51,
   "metadata": {},
   "outputs": [
    {
     "name": "stdout",
     "output_type": "stream",
     "text": [
      "WARNING! Your password will be stored unencrypted in /home/ec2-user/.docker/config.json.\r\n",
      "Configure a credential helper to remove this warning. See\r\n",
      "https://docs.docker.com/engine/reference/commandline/login/#credentials-store\r\n",
      "\r\n",
      "Login Succeeded\r\n"
     ]
    }
   ],
   "source": [
    "\n",
    "#!aws ecr get-login-password --region us-east-1 | docker login --username AWS --password-stdin <URI OF YOUR REPO>\n",
    "!aws ecr get-login-password --region us-east-1 | docker login --username AWS --password-stdin 146171926552.dkr.ecr.us-east-1.amazonaws.com/mlflow"
   ]
  },
  {
   "cell_type": "code",
   "execution_count": 52,
   "metadata": {},
   "outputs": [
    {
     "name": "stdout",
     "output_type": "stream",
     "text": [
      "The push refers to repository [146171926552.dkr.ecr.us-east-1.amazonaws.com/mlflow]\n",
      "\n",
      "\u001b[1Be7110687: Preparing \n",
      "\u001b[1B2ac6be2c: Preparing \n",
      "\u001b[1Baf080466: Preparing \n",
      "\u001b[1Bfca9b552: Preparing \n",
      "\u001b[1Bff424f2c: Preparing \n",
      "\u001b[1B36c98e78: Preparing \n",
      "\u001b[1B28051161: Preparing \n",
      "\u001b[1B6be9fffc: Preparing \n",
      "\u001b[1B6ff92d60: Preparing \n",
      "\u001b[1Be7c76678: Preparing \n",
      "\u001b[1B54a07c6d: Preparing \n",
      "\u001b[1B8b0211f3: Preparing \n",
      "\u001b[1B528d1c04: Preparing \n",
      "\u001b[1Ba3817058: Preparing \n",
      "\u001b[1B05a870f4: Preparing \n",
      "\u001b[1Bbef40418: Preparing \n",
      "\u001b[1Bf2c85376: Preparing \n",
      "\u001b[1B8cc4052c: Preparing \n",
      "\u001b[1B0715cd5f: Preparing \n",
      "\u001b[1B0445c449: Layer already exists \u001b[16A\u001b[2K\u001b[12A\u001b[2K\u001b[7A\u001b[2K\u001b[2A\u001b[2K2.12.2: digest: sha256:72cdb5089a74f3fd8e59e873368c3f674ca20c32c2c0c9de94b904a57d3b4e1c size: 4529\n"
     ]
    }
   ],
   "source": [
    "#!docker push <You'r ECR repo ID>\n",
    "!docker push 146171926552.dkr.ecr.us-east-1.amazonaws.com/mlflow:2.12.2"
   ]
  },
  {
   "cell_type": "code",
   "execution_count": 53,
   "metadata": {},
   "outputs": [],
   "source": [
    "# URL of the ECR-hosted Docker image the model should be deployed into\n",
    "image_uri = '146171926552.dkr.ecr.us-east-1.amazonaws.com/mlflow:2.12.2'"
   ]
  },
  {
   "cell_type": "markdown",
   "metadata": {},
   "source": [
    "## Deploy a SageMaker endpoint with our scikit-learn model"
   ]
  },
  {
   "cell_type": "code",
   "execution_count": 54,
   "metadata": {},
   "outputs": [],
   "source": [
    "endpoint_name = 'boston-housing-mlops'\n",
    "# The location, in URI format, of the MLflow model to deploy to SageMaker.\n",
    "model_uri = 'models:/boston/1'"
   ]
  },
  {
   "cell_type": "code",
   "execution_count": 55,
   "metadata": {},
   "outputs": [
    {
     "name": "stderr",
     "output_type": "stream",
     "text": [
      "2024/05/17 12:50:05 INFO mlflow.sagemaker: Using the python_function flavor for deployment!\n",
      "2024/05/17 12:50:05 INFO mlflow.sagemaker: No model data bucket specified, using the default bucket\n",
      "2024/05/17 12:50:06 INFO mlflow.sagemaker: Default bucket `mlflow-sagemaker-us-east-1-146171926552` already exists. Skipping creation.\n",
      "2024/05/17 12:50:06 INFO mlflow.sagemaker: tag response: {'ResponseMetadata': {'RequestId': '1ZV2221SZXWMGDSP', 'HostId': 'k4ju2OudV3VaONNMZqR1rdujAWQrZDCtRs8pnBogFpjyyYoXk385xRwpIF51cuz0pX/0SUC/lY4=', 'HTTPStatusCode': 200, 'HTTPHeaders': {'x-amz-id-2': 'k4ju2OudV3VaONNMZqR1rdujAWQrZDCtRs8pnBogFpjyyYoXk385xRwpIF51cuz0pX/0SUC/lY4=', 'x-amz-request-id': '1ZV2221SZXWMGDSP', 'date': 'Fri, 17 May 2024 12:50:07 GMT', 'server': 'AmazonS3', 'content-length': '0'}, 'RetryAttempts': 0}}\n",
      "2024/05/17 12:50:06 INFO mlflow.sagemaker: Creating new endpoint with name: boston-housing-mlops-jan ...\n",
      "2024/05/17 12:50:07 INFO mlflow.sagemaker: Created model with arn: arn:aws:sagemaker:us-east-1:146171926552:model/boston-housing-mlops-jan-model-jdgirltzrqyqftxr0kb4lg\n",
      "2024/05/17 12:50:07 INFO mlflow.sagemaker: Created endpoint configuration with arn: arn:aws:sagemaker:us-east-1:146171926552:endpoint-config/boston-housing-mlops-jan-config--hk00up6tqulfav0gpg9abg\n",
      "2024/05/17 12:50:08 INFO mlflow.sagemaker: Created endpoint with arn: arn:aws:sagemaker:us-east-1:146171926552:endpoint/boston-housing-mlops-jan\n",
      "2024/05/17 12:50:08 INFO mlflow.sagemaker: Waiting for the deployment operation to complete...\n",
      "2024/05/17 12:50:08 INFO mlflow.sagemaker: Waiting for endpoint to reach the \"InService\" state. Current endpoint status: \"Creating\"\n",
      "2024/05/17 12:50:28 INFO mlflow.sagemaker: Waiting for endpoint to reach the \"InService\" state. Current endpoint status: \"Creating\"\n",
      "2024/05/17 12:50:48 INFO mlflow.sagemaker: Waiting for endpoint to reach the \"InService\" state. Current endpoint status: \"Creating\"\n",
      "2024/05/17 12:51:08 INFO mlflow.sagemaker: Waiting for endpoint to reach the \"InService\" state. Current endpoint status: \"Creating\"\n",
      "2024/05/17 12:51:29 INFO mlflow.sagemaker: Waiting for endpoint to reach the \"InService\" state. Current endpoint status: \"Creating\"\n",
      "2024/05/17 12:51:49 INFO mlflow.sagemaker: Waiting for endpoint to reach the \"InService\" state. Current endpoint status: \"Creating\"\n",
      "2024/05/17 12:52:09 INFO mlflow.sagemaker: Waiting for endpoint to reach the \"InService\" state. Current endpoint status: \"Creating\"\n",
      "2024/05/17 12:52:29 INFO mlflow.sagemaker: Waiting for endpoint to reach the \"InService\" state. Current endpoint status: \"Creating\"\n",
      "2024/05/17 12:52:49 INFO mlflow.sagemaker: Waiting for endpoint to reach the \"InService\" state. Current endpoint status: \"Creating\"\n",
      "2024/05/17 12:53:10 INFO mlflow.sagemaker: Waiting for endpoint to reach the \"InService\" state. Current endpoint status: \"Creating\"\n",
      "2024/05/17 12:53:30 INFO mlflow.sagemaker: Waiting for endpoint to reach the \"InService\" state. Current endpoint status: \"Creating\"\n",
      "2024/05/17 12:53:50 INFO mlflow.sagemaker: Waiting for endpoint to reach the \"InService\" state. Current endpoint status: \"Creating\"\n",
      "2024/05/17 12:54:10 INFO mlflow.sagemaker: Waiting for endpoint to reach the \"InService\" state. Current endpoint status: \"Creating\"\n",
      "2024/05/17 12:54:30 INFO mlflow.sagemaker: Waiting for endpoint to reach the \"InService\" state. Current endpoint status: \"Creating\"\n",
      "2024/05/17 12:54:51 INFO mlflow.sagemaker: Waiting for endpoint to reach the \"InService\" state. Current endpoint status: \"Creating\"\n",
      "2024/05/17 12:55:11 INFO mlflow.sagemaker: Waiting for endpoint to reach the \"InService\" state. Current endpoint status: \"Creating\"\n",
      "2024/05/17 12:55:31 INFO mlflow.sagemaker: The deployment operation completed successfully with message: \"The SageMaker endpoint was created successfully.\"\n"
     ]
    },
    {
     "data": {
      "text/plain": [
       "{'name': 'boston-housing-mlops-jan', 'flavor': 'python_function'}"
      ]
     },
     "execution_count": 55,
     "metadata": {},
     "output_type": "execute_result"
    }
   ],
   "source": [
    "config={\n",
    "    'execution_role_arn': role,\n",
    "    'image_url': image_uri,\n",
    "    'instance_type': 'ml.m5.xlarge',\n",
    "    'instance_count': 1, \n",
    "    'region_name': region\n",
    "}\n",
    "\n",
    "client = get_deploy_client(\"sagemaker\")\n",
    "\n",
    "client.create_deployment(\n",
    "    name=endpoint_name,\n",
    "    model_uri=model_uri,\n",
    "    flavor='python_function',\n",
    "    config=config\n",
    ")"
   ]
  },
  {
   "cell_type": "markdown",
   "metadata": {},
   "source": [
    "## Predict"
   ]
  },
  {
   "cell_type": "code",
   "execution_count": 56,
   "metadata": {
    "scrolled": true
   },
   "outputs": [
    {
     "name": "stderr",
     "output_type": "stream",
     "text": [
      "/home/ec2-user/anaconda3/envs/python3/lib/python3.10/site-packages/sklearn/utils/deprecation.py:87: FutureWarning: Function load_boston is deprecated; `load_boston` is deprecated in 1.0 and will be removed in 1.2.\n",
      "\n",
      "    The Boston housing prices dataset has an ethical problem. You can refer to\n",
      "    the documentation of this function for further details.\n",
      "\n",
      "    The scikit-learn maintainers therefore strongly discourage the use of this\n",
      "    dataset unless the purpose of the code is to study and educate about\n",
      "    ethical issues in data science and machine learning.\n",
      "\n",
      "    In this special case, you can fetch the dataset from the original\n",
      "    source::\n",
      "\n",
      "        import pandas as pd\n",
      "        import numpy as np\n",
      "\n",
      "        data_url = \"http://lib.stat.cmu.edu/datasets/boston\"\n",
      "        raw_df = pd.read_csv(data_url, sep=\"\\s+\", skiprows=22, header=None)\n",
      "        data = np.hstack([raw_df.values[::2, :], raw_df.values[1::2, :2]])\n",
      "        target = raw_df.values[1::2, 2]\n",
      "\n",
      "    Alternative datasets include the California housing dataset (i.e.\n",
      "    :func:`~sklearn.datasets.fetch_california_housing`) and the Ames housing\n",
      "    dataset. You can load the datasets as follows::\n",
      "\n",
      "        from sklearn.datasets import fetch_california_housing\n",
      "        housing = fetch_california_housing()\n",
      "\n",
      "    for the California housing dataset and::\n",
      "\n",
      "        from sklearn.datasets import fetch_openml\n",
      "        housing = fetch_openml(name=\"house_prices\", as_frame=True)\n",
      "\n",
      "    for the Ames housing dataset.\n",
      "  warnings.warn(msg, category=FutureWarning)\n"
     ]
    }
   ],
   "source": [
    "# load boston dataset\n",
    "data = load_boston()\n",
    "df = pd.DataFrame(data.data, columns=data.feature_names)"
   ]
  },
  {
   "cell_type": "code",
   "execution_count": 57,
   "metadata": {},
   "outputs": [
    {
     "name": "stdout",
     "output_type": "stream",
     "text": [
      "Payload:       CRIM    ZN  INDUS  CHAS    NOX     RM   AGE   DIS  RAD    TAX  PTRATIO  \\\n",
      "0  0.00632  18.0   2.31   0.0  0.538  6.575  65.2  4.09  1.0  296.0     15.3   \n",
      "\n",
      "       B  LSTAT  \n",
      "0  396.9   4.98  \n",
      "Prediction: {'predictions': [35.16046144133643]}\n"
     ]
    }
   ],
   "source": [
    "client = get_deploy_client(f\"sagemaker:/{region}\")\n",
    "\n",
    "payload = df.iloc[[0]]\n",
    "prediction = client.predict(endpoint_name, df.iloc[[3]])\n",
    "\n",
    "print(f'Payload: {payload}')\n",
    "print(f'Prediction: {prediction}')"
   ]
  },
  {
   "cell_type": "markdown",
   "metadata": {},
   "source": [
    "## Delete endpoint"
   ]
  },
  {
   "cell_type": "code",
   "execution_count": 59,
   "metadata": {},
   "outputs": [
    {
     "name": "stderr",
     "output_type": "stream",
     "text": [
      "2024/05/17 13:06:31 INFO mlflow.sagemaker: Deleted endpoint with arn: arn:aws:sagemaker:us-east-1:146171926552:endpoint/boston-housing-mlops-jan\n",
      "2024/05/17 13:06:31 INFO mlflow.sagemaker: Waiting for the delete operation to complete...\n",
      "2024/05/17 13:06:31 INFO mlflow.sagemaker: Deletion is still in progress. Current endpoint status: Deleting\n",
      "2024/05/17 13:06:36 INFO mlflow.sagemaker: The deletion operation completed successfully with message: \"The SageMaker endpoint was deleted successfully.\"\n",
      "2024/05/17 13:06:36 INFO mlflow.sagemaker: Cleaning up unused resources...\n",
      "2024/05/17 13:06:36 INFO mlflow.sagemaker: Deleted associated endpoint configuration with arn: arn:aws:sagemaker:us-east-1:146171926552:endpoint-config/boston-housing-mlops-jan-config--hk00up6tqulfav0gpg9abg\n",
      "2024/05/17 13:06:37 INFO mlflow.sagemaker: Deleted associated model with arn: arn:aws:sagemaker:us-east-1:146171926552:model/boston-housing-mlops-jan-model-jdgirltzrqyqftxr0kb4lg\n"
     ]
    }
   ],
   "source": [
    "client.delete_deployment('boston-housing-mlops', config=config)"
   ]
  },
  {
   "cell_type": "code",
   "execution_count": null,
   "metadata": {},
   "outputs": [],
   "source": []
  },
  {
   "cell_type": "code",
   "execution_count": null,
   "metadata": {},
   "outputs": [],
   "source": []
  }
 ],
 "metadata": {
  "kernelspec": {
   "display_name": "conda_python3",
   "language": "python",
   "name": "conda_python3"
  },
  "language_info": {
   "codemirror_mode": {
    "name": "ipython",
    "version": 3
   },
   "file_extension": ".py",
   "mimetype": "text/x-python",
   "name": "python",
   "nbconvert_exporter": "python",
   "pygments_lexer": "ipython3",
   "version": "3.10.13"
  },
  "notice": "Copyright 2017 Amazon.com, Inc. or its affiliates. All Rights Reserved.  Licensed under the Apache License, Version 2.0 (the \"License\"). You may not use this file except in compliance with the License. A copy of the License is located at http://aws.amazon.com/apache2.0/ or in the \"license\" file accompanying this file. This file is distributed on an \"AS IS\" BASIS, WITHOUT WARRANTIES OR CONDITIONS OF ANY KIND, either express or implied. See the License for the specific language governing permissions and limitations under the License."
 },
 "nbformat": 4,
 "nbformat_minor": 2
}
